{
  "nbformat": 4,
  "nbformat_minor": 0,
  "metadata": {
    "colab": {
      "name": "1.merge_data.ipynb",
      "provenance": [],
      "mount_file_id": "1xBvWfhFJLGaXPwpdKbL8JeW1_GgHU6OO",
      "authorship_tag": "ABX9TyP9J+u5TewIJrFqJRyUaPuK",
      "include_colab_link": true
    },
    "kernelspec": {
      "name": "python3",
      "display_name": "Python 3"
    }
  },
  "cells": [
    {
      "cell_type": "markdown",
      "metadata": {
        "id": "view-in-github",
        "colab_type": "text"
      },
      "source": [
        "<a href=\"https://colab.research.google.com/github/dinabahar/analyticstest_giantspoon/blob/master/1_merge_data.ipynb\" target=\"_parent\"><img src=\"https://colab.research.google.com/assets/colab-badge.svg\" alt=\"Open In Colab\"/></a>"
      ]
    },
    {
      "cell_type": "markdown",
      "metadata": {
        "id": "vwvleUVhsnW6",
        "colab_type": "text"
      },
      "source": [
        "# 1. Merge `Media` & `Conversion` Data\n",
        "### TLDR; I merged the two datasets by using the .merge() function in Pandas. \n",
        "\n",
        "To do so, I needed a column that's found in both datasets to merge them *on*. Hence, I concatenated the identifying features: `'Date', 'Platform', 'Placement'` on both datasets to act as unique identifiers. Only then was I able to merge the datasets *on* the `id`'s.\n",
        "\n",
        "Once the datasets are merged, I split the `id`'s into their respective seperate columns and filled the missing values with 0 to avoid errors in calculations later on."
      ]
    },
    {
      "cell_type": "markdown",
      "metadata": {
        "id": "97r-Zm3YLcsA",
        "colab_type": "text"
      },
      "source": [
        "### I. Imports"
      ]
    },
    {
      "cell_type": "code",
      "metadata": {
        "id": "wZ_1jaKCTjDm",
        "colab_type": "code",
        "colab": {}
      },
      "source": [
        "import pandas as pd\n",
        "import numpy as np\n",
        "import matplotlib.pyplot as plt"
      ],
      "execution_count": null,
      "outputs": []
    },
    {
      "cell_type": "markdown",
      "metadata": {
        "id": "5BqYaTxYLRv2",
        "colab_type": "text"
      },
      "source": [
        "### II. Read `media_data` and `conversion_data`\n",
        "Create `id`'s by combining `'Date', 'Platform', 'Placement'` data for each onservation (row)."
      ]
    },
    {
      "cell_type": "code",
      "metadata": {
        "id": "STAV3I79GzqY",
        "colab_type": "code",
        "colab": {
          "base_uri": "https://localhost:8080/",
          "height": 111
        },
        "outputId": "aaad211e-6275-4263-dd2b-0425e798527c"
      },
      "source": [
        "media = pd.read_csv('/content/drive/My Drive/giant_spoon_analytics_test/media_data.csv')\n",
        "media['id'] = media['Date'] + ' | ' + media['Platform'] + ' | ' + media['Placement']\n",
        "media.head(2)"
      ],
      "execution_count": null,
      "outputs": [
        {
          "output_type": "execute_result",
          "data": {
            "text/html": [
              "<div>\n",
              "<style scoped>\n",
              "    .dataframe tbody tr th:only-of-type {\n",
              "        vertical-align: middle;\n",
              "    }\n",
              "\n",
              "    .dataframe tbody tr th {\n",
              "        vertical-align: top;\n",
              "    }\n",
              "\n",
              "    .dataframe thead th {\n",
              "        text-align: right;\n",
              "    }\n",
              "</style>\n",
              "<table border=\"1\" class=\"dataframe\">\n",
              "  <thead>\n",
              "    <tr style=\"text-align: right;\">\n",
              "      <th></th>\n",
              "      <th>Date</th>\n",
              "      <th>Platform</th>\n",
              "      <th>Placement</th>\n",
              "      <th>Spend</th>\n",
              "      <th>Impressions</th>\n",
              "      <th>Clicks</th>\n",
              "      <th>id</th>\n",
              "    </tr>\n",
              "  </thead>\n",
              "  <tbody>\n",
              "    <tr>\n",
              "      <th>0</th>\n",
              "      <td>2019-01-04</td>\n",
              "      <td>instagram</td>\n",
              "      <td>LAL_CHI_Purchase</td>\n",
              "      <td>6.63</td>\n",
              "      <td>1339</td>\n",
              "      <td>4</td>\n",
              "      <td>2019-01-04 | instagram | LAL_CHI_Purchase</td>\n",
              "    </tr>\n",
              "    <tr>\n",
              "      <th>1</th>\n",
              "      <td>2019-01-04</td>\n",
              "      <td>facebook</td>\n",
              "      <td>RTG_NYC_Cart Add</td>\n",
              "      <td>3.17</td>\n",
              "      <td>133</td>\n",
              "      <td>1</td>\n",
              "      <td>2019-01-04 | facebook | RTG_NYC_Cart Add</td>\n",
              "    </tr>\n",
              "  </tbody>\n",
              "</table>\n",
              "</div>"
            ],
            "text/plain": [
              "         Date   Platform  ... Clicks                                         id\n",
              "0  2019-01-04  instagram  ...      4  2019-01-04 | instagram | LAL_CHI_Purchase\n",
              "1  2019-01-04   facebook  ...      1   2019-01-04 | facebook | RTG_NYC_Cart Add\n",
              "\n",
              "[2 rows x 7 columns]"
            ]
          },
          "metadata": {
            "tags": []
          },
          "execution_count": 580
        }
      ]
    },
    {
      "cell_type": "code",
      "metadata": {
        "id": "8tkMCWfLZa8p",
        "colab_type": "code",
        "colab": {
          "base_uri": "https://localhost:8080/",
          "height": 111
        },
        "outputId": "4beb56c4-19d9-408a-a3e5-9d8f48c53f1d"
      },
      "source": [
        "conversion = pd.read_csv('/content/drive/My Drive/giant_spoon_analytics_test/conversion_data.csv')\n",
        "conversion['id'] = conversion['Date'] + ' | ' + conversion['Source/Medium']\n",
        "conversion.head(2)"
      ],
      "execution_count": null,
      "outputs": [
        {
          "output_type": "execute_result",
          "data": {
            "text/html": [
              "<div>\n",
              "<style scoped>\n",
              "    .dataframe tbody tr th:only-of-type {\n",
              "        vertical-align: middle;\n",
              "    }\n",
              "\n",
              "    .dataframe tbody tr th {\n",
              "        vertical-align: top;\n",
              "    }\n",
              "\n",
              "    .dataframe thead th {\n",
              "        text-align: right;\n",
              "    }\n",
              "</style>\n",
              "<table border=\"1\" class=\"dataframe\">\n",
              "  <thead>\n",
              "    <tr style=\"text-align: right;\">\n",
              "      <th></th>\n",
              "      <th>Date</th>\n",
              "      <th>Source/Medium</th>\n",
              "      <th>Add to Cart</th>\n",
              "      <th>Purchase</th>\n",
              "      <th>Revenue</th>\n",
              "      <th>id</th>\n",
              "    </tr>\n",
              "  </thead>\n",
              "  <tbody>\n",
              "    <tr>\n",
              "      <th>0</th>\n",
              "      <td>2019-01-04</td>\n",
              "      <td>instagram | LAL_NYC_Purchase</td>\n",
              "      <td>1</td>\n",
              "      <td>1</td>\n",
              "      <td>70</td>\n",
              "      <td>2019-01-04 | instagram | LAL_NYC_Purchase</td>\n",
              "    </tr>\n",
              "    <tr>\n",
              "      <th>1</th>\n",
              "      <td>2019-01-04</td>\n",
              "      <td>facebook | RTG_CHI_Cart Add</td>\n",
              "      <td>1</td>\n",
              "      <td>1</td>\n",
              "      <td>143</td>\n",
              "      <td>2019-01-04 | facebook | RTG_CHI_Cart Add</td>\n",
              "    </tr>\n",
              "  </tbody>\n",
              "</table>\n",
              "</div>"
            ],
            "text/plain": [
              "         Date  ...                                         id\n",
              "0  2019-01-04  ...  2019-01-04 | instagram | LAL_NYC_Purchase\n",
              "1  2019-01-04  ...   2019-01-04 | facebook | RTG_CHI_Cart Add\n",
              "\n",
              "[2 rows x 6 columns]"
            ]
          },
          "metadata": {
            "tags": []
          },
          "execution_count": 581
        }
      ]
    },
    {
      "cell_type": "markdown",
      "metadata": {
        "id": "7wpM-NkiFCeM",
        "colab_type": "text"
      },
      "source": [
        "### III. Merge datasets *on* `id`'s."
      ]
    },
    {
      "cell_type": "code",
      "metadata": {
        "id": "syzCepTxUFmd",
        "colab_type": "code",
        "colab": {
          "base_uri": "https://localhost:8080/",
          "height": 419
        },
        "outputId": "fb189bb7-ab73-44ec-f936-f6f8faf370fc"
      },
      "source": [
        "left = media[['id','Spend','Impressions','Clicks']]\n",
        "right = conversion[['id','Add to Cart','Purchase','Revenue']]\n",
        "\n",
        "df = left.merge(right, how='left', on='id')\n",
        "df"
      ],
      "execution_count": null,
      "outputs": [
        {
          "output_type": "execute_result",
          "data": {
            "text/html": [
              "<div>\n",
              "<style scoped>\n",
              "    .dataframe tbody tr th:only-of-type {\n",
              "        vertical-align: middle;\n",
              "    }\n",
              "\n",
              "    .dataframe tbody tr th {\n",
              "        vertical-align: top;\n",
              "    }\n",
              "\n",
              "    .dataframe thead th {\n",
              "        text-align: right;\n",
              "    }\n",
              "</style>\n",
              "<table border=\"1\" class=\"dataframe\">\n",
              "  <thead>\n",
              "    <tr style=\"text-align: right;\">\n",
              "      <th></th>\n",
              "      <th>id</th>\n",
              "      <th>Spend</th>\n",
              "      <th>Impressions</th>\n",
              "      <th>Clicks</th>\n",
              "      <th>Add to Cart</th>\n",
              "      <th>Purchase</th>\n",
              "      <th>Revenue</th>\n",
              "    </tr>\n",
              "  </thead>\n",
              "  <tbody>\n",
              "    <tr>\n",
              "      <th>0</th>\n",
              "      <td>2019-01-04 | instagram | LAL_CHI_Purchase</td>\n",
              "      <td>6.63</td>\n",
              "      <td>1339</td>\n",
              "      <td>4</td>\n",
              "      <td>NaN</td>\n",
              "      <td>NaN</td>\n",
              "      <td>NaN</td>\n",
              "    </tr>\n",
              "    <tr>\n",
              "      <th>1</th>\n",
              "      <td>2019-01-04 | facebook | RTG_NYC_Cart Add</td>\n",
              "      <td>3.17</td>\n",
              "      <td>133</td>\n",
              "      <td>1</td>\n",
              "      <td>NaN</td>\n",
              "      <td>NaN</td>\n",
              "      <td>NaN</td>\n",
              "    </tr>\n",
              "    <tr>\n",
              "      <th>2</th>\n",
              "      <td>2019-01-04 | instagram | LAL_NYC_Purchase</td>\n",
              "      <td>10.11</td>\n",
              "      <td>2389</td>\n",
              "      <td>14</td>\n",
              "      <td>1.0</td>\n",
              "      <td>1.0</td>\n",
              "      <td>70.0</td>\n",
              "    </tr>\n",
              "    <tr>\n",
              "      <th>3</th>\n",
              "      <td>2019-01-04 | facebook | LAL_DC_Purchase</td>\n",
              "      <td>3.14</td>\n",
              "      <td>378</td>\n",
              "      <td>2</td>\n",
              "      <td>NaN</td>\n",
              "      <td>NaN</td>\n",
              "      <td>NaN</td>\n",
              "    </tr>\n",
              "    <tr>\n",
              "      <th>4</th>\n",
              "      <td>2019-01-04 | facebook | RTG_CHI_Cart Add</td>\n",
              "      <td>14.41</td>\n",
              "      <td>2488</td>\n",
              "      <td>10</td>\n",
              "      <td>1.0</td>\n",
              "      <td>1.0</td>\n",
              "      <td>143.0</td>\n",
              "    </tr>\n",
              "    <tr>\n",
              "      <th>...</th>\n",
              "      <td>...</td>\n",
              "      <td>...</td>\n",
              "      <td>...</td>\n",
              "      <td>...</td>\n",
              "      <td>...</td>\n",
              "      <td>...</td>\n",
              "      <td>...</td>\n",
              "    </tr>\n",
              "    <tr>\n",
              "      <th>981</th>\n",
              "      <td>2019-02-28 | instagram | LAL_NYC_Purchase</td>\n",
              "      <td>503.16</td>\n",
              "      <td>15317</td>\n",
              "      <td>30</td>\n",
              "      <td>3.0</td>\n",
              "      <td>3.0</td>\n",
              "      <td>132.0</td>\n",
              "    </tr>\n",
              "    <tr>\n",
              "      <th>982</th>\n",
              "      <td>2019-02-28 | instagram | LAL_CHI_Purchase</td>\n",
              "      <td>80.57</td>\n",
              "      <td>2501</td>\n",
              "      <td>5</td>\n",
              "      <td>NaN</td>\n",
              "      <td>NaN</td>\n",
              "      <td>NaN</td>\n",
              "    </tr>\n",
              "    <tr>\n",
              "      <th>983</th>\n",
              "      <td>2019-02-28 | instagram | LAL_SFO_Purchase</td>\n",
              "      <td>111.58</td>\n",
              "      <td>2816</td>\n",
              "      <td>11</td>\n",
              "      <td>1.0</td>\n",
              "      <td>1.0</td>\n",
              "      <td>80.0</td>\n",
              "    </tr>\n",
              "    <tr>\n",
              "      <th>984</th>\n",
              "      <td>2019-02-28 | instagram | RTG_CHI_SiteVisitor</td>\n",
              "      <td>25.71</td>\n",
              "      <td>863</td>\n",
              "      <td>2</td>\n",
              "      <td>NaN</td>\n",
              "      <td>NaN</td>\n",
              "      <td>NaN</td>\n",
              "    </tr>\n",
              "    <tr>\n",
              "      <th>985</th>\n",
              "      <td>2019-02-28 | instagram | LAL_DC_Purchase</td>\n",
              "      <td>115.72</td>\n",
              "      <td>3516</td>\n",
              "      <td>4</td>\n",
              "      <td>NaN</td>\n",
              "      <td>NaN</td>\n",
              "      <td>NaN</td>\n",
              "    </tr>\n",
              "  </tbody>\n",
              "</table>\n",
              "<p>986 rows × 7 columns</p>\n",
              "</div>"
            ],
            "text/plain": [
              "                                               id   Spend  ...  Purchase  Revenue\n",
              "0       2019-01-04 | instagram | LAL_CHI_Purchase    6.63  ...       NaN      NaN\n",
              "1        2019-01-04 | facebook | RTG_NYC_Cart Add    3.17  ...       NaN      NaN\n",
              "2       2019-01-04 | instagram | LAL_NYC_Purchase   10.11  ...       1.0     70.0\n",
              "3         2019-01-04 | facebook | LAL_DC_Purchase    3.14  ...       NaN      NaN\n",
              "4        2019-01-04 | facebook | RTG_CHI_Cart Add   14.41  ...       1.0    143.0\n",
              "..                                            ...     ...  ...       ...      ...\n",
              "981     2019-02-28 | instagram | LAL_NYC_Purchase  503.16  ...       3.0    132.0\n",
              "982     2019-02-28 | instagram | LAL_CHI_Purchase   80.57  ...       NaN      NaN\n",
              "983     2019-02-28 | instagram | LAL_SFO_Purchase  111.58  ...       1.0     80.0\n",
              "984  2019-02-28 | instagram | RTG_CHI_SiteVisitor   25.71  ...       NaN      NaN\n",
              "985      2019-02-28 | instagram | LAL_DC_Purchase  115.72  ...       NaN      NaN\n",
              "\n",
              "[986 rows x 7 columns]"
            ]
          },
          "metadata": {
            "tags": []
          },
          "execution_count": 574
        }
      ]
    },
    {
      "cell_type": "markdown",
      "metadata": {
        "id": "fBilRaDtD3fI",
        "colab_type": "text"
      },
      "source": [
        "### IV. Split `id`'s into `'Date', 'Platform', 'Placement'` columns."
      ]
    },
    {
      "cell_type": "code",
      "metadata": {
        "id": "3nCBHZ4rli7r",
        "colab_type": "code",
        "colab": {
          "base_uri": "https://localhost:8080/",
          "height": 111
        },
        "outputId": "05e93472-0d39-4058-c37b-61c8316bda32"
      },
      "source": [
        "new_df = df[\"id\"].str.split(\"|\", n = 2, expand = True)\n",
        "df['Date'] = new_df[0]\n",
        "df['Platform'] = new_df[1]\n",
        "df['Placement'] = new_df[2]\n",
        "\n",
        "df = df.drop(columns='id')\n",
        "df.head(2)"
      ],
      "execution_count": null,
      "outputs": [
        {
          "output_type": "execute_result",
          "data": {
            "text/html": [
              "<div>\n",
              "<style scoped>\n",
              "    .dataframe tbody tr th:only-of-type {\n",
              "        vertical-align: middle;\n",
              "    }\n",
              "\n",
              "    .dataframe tbody tr th {\n",
              "        vertical-align: top;\n",
              "    }\n",
              "\n",
              "    .dataframe thead th {\n",
              "        text-align: right;\n",
              "    }\n",
              "</style>\n",
              "<table border=\"1\" class=\"dataframe\">\n",
              "  <thead>\n",
              "    <tr style=\"text-align: right;\">\n",
              "      <th></th>\n",
              "      <th>Spend</th>\n",
              "      <th>Impressions</th>\n",
              "      <th>Clicks</th>\n",
              "      <th>Add to Cart</th>\n",
              "      <th>Purchase</th>\n",
              "      <th>Revenue</th>\n",
              "      <th>Date</th>\n",
              "      <th>Platform</th>\n",
              "      <th>Placement</th>\n",
              "    </tr>\n",
              "  </thead>\n",
              "  <tbody>\n",
              "    <tr>\n",
              "      <th>0</th>\n",
              "      <td>6.63</td>\n",
              "      <td>1339</td>\n",
              "      <td>4</td>\n",
              "      <td>NaN</td>\n",
              "      <td>NaN</td>\n",
              "      <td>NaN</td>\n",
              "      <td>2019-01-04</td>\n",
              "      <td>instagram</td>\n",
              "      <td>LAL_CHI_Purchase</td>\n",
              "    </tr>\n",
              "    <tr>\n",
              "      <th>1</th>\n",
              "      <td>3.17</td>\n",
              "      <td>133</td>\n",
              "      <td>1</td>\n",
              "      <td>NaN</td>\n",
              "      <td>NaN</td>\n",
              "      <td>NaN</td>\n",
              "      <td>2019-01-04</td>\n",
              "      <td>facebook</td>\n",
              "      <td>RTG_NYC_Cart Add</td>\n",
              "    </tr>\n",
              "  </tbody>\n",
              "</table>\n",
              "</div>"
            ],
            "text/plain": [
              "   Spend  Impressions  Clicks  ...         Date     Platform          Placement\n",
              "0   6.63         1339       4  ...  2019-01-04    instagram    LAL_CHI_Purchase\n",
              "1   3.17          133       1  ...  2019-01-04     facebook    RTG_NYC_Cart Add\n",
              "\n",
              "[2 rows x 9 columns]"
            ]
          },
          "metadata": {
            "tags": []
          },
          "execution_count": 575
        }
      ]
    },
    {
      "cell_type": "markdown",
      "metadata": {
        "id": "alMBiO_OELB5",
        "colab_type": "text"
      },
      "source": [
        "### V. Handle missing values\n",
        "\n",
        "Some placement did not yield any conversion and therefore does not have conversion data. Hence, we see `NaN` values when the two datasets were merged.\n",
        "\n",
        "I'm imputing `NaN` values with 0 to represent 0 conversions made."
      ]
    },
    {
      "cell_type": "code",
      "metadata": {
        "id": "fZpNKakIpry5",
        "colab_type": "code",
        "colab": {
          "base_uri": "https://localhost:8080/",
          "height": 187
        },
        "outputId": "f52701fc-304f-49fb-e6a4-102b5b59a538"
      },
      "source": [
        "df.isna().sum()"
      ],
      "execution_count": null,
      "outputs": [
        {
          "output_type": "execute_result",
          "data": {
            "text/plain": [
              "Spend            0\n",
              "Impressions      0\n",
              "Clicks           0\n",
              "Add to Cart    502\n",
              "Purchase       502\n",
              "Revenue        502\n",
              "Date             0\n",
              "Platform         0\n",
              "Placement        0\n",
              "dtype: int64"
            ]
          },
          "metadata": {
            "tags": []
          },
          "execution_count": 576
        }
      ]
    },
    {
      "cell_type": "code",
      "metadata": {
        "id": "qYcNSLMiF1Ys",
        "colab_type": "code",
        "colab": {}
      },
      "source": [
        "df = df.fillna(value=0)"
      ],
      "execution_count": null,
      "outputs": []
    },
    {
      "cell_type": "markdown",
      "metadata": {
        "id": "70W_SDwpF5EA",
        "colab_type": "text"
      },
      "source": [
        "### VI. Reorganizing data\n",
        "\n",
        "I'm enaming the columns into lowered, snake casing. As well as reorganizing the columns."
      ]
    },
    {
      "cell_type": "code",
      "metadata": {
        "id": "0SGftD1vrpEN",
        "colab_type": "code",
        "colab": {
          "base_uri": "https://localhost:8080/",
          "height": 111
        },
        "outputId": "14183d6e-b04b-449d-c163-73ed0310a1fc"
      },
      "source": [
        "df = df.rename(columns=str.lower)\n",
        "df = df.rename(columns={'add to cart': 'add_to_cart'})\n",
        "\n",
        "df = df[['date',\t'platform',\t'placement', 'spend',\t'impressions',\t'clicks',\t'add_to_cart',\t'purchase', 'revenue']]\n",
        "df.head(2)"
      ],
      "execution_count": null,
      "outputs": [
        {
          "output_type": "execute_result",
          "data": {
            "text/html": [
              "<div>\n",
              "<style scoped>\n",
              "    .dataframe tbody tr th:only-of-type {\n",
              "        vertical-align: middle;\n",
              "    }\n",
              "\n",
              "    .dataframe tbody tr th {\n",
              "        vertical-align: top;\n",
              "    }\n",
              "\n",
              "    .dataframe thead th {\n",
              "        text-align: right;\n",
              "    }\n",
              "</style>\n",
              "<table border=\"1\" class=\"dataframe\">\n",
              "  <thead>\n",
              "    <tr style=\"text-align: right;\">\n",
              "      <th></th>\n",
              "      <th>date</th>\n",
              "      <th>platform</th>\n",
              "      <th>placement</th>\n",
              "      <th>spend</th>\n",
              "      <th>impressions</th>\n",
              "      <th>clicks</th>\n",
              "      <th>add_to_cart</th>\n",
              "      <th>purchase</th>\n",
              "      <th>revenue</th>\n",
              "    </tr>\n",
              "  </thead>\n",
              "  <tbody>\n",
              "    <tr>\n",
              "      <th>0</th>\n",
              "      <td>2019-01-04</td>\n",
              "      <td>instagram</td>\n",
              "      <td>LAL_CHI_Purchase</td>\n",
              "      <td>6.63</td>\n",
              "      <td>1339</td>\n",
              "      <td>4</td>\n",
              "      <td>0.0</td>\n",
              "      <td>0.0</td>\n",
              "      <td>0.0</td>\n",
              "    </tr>\n",
              "    <tr>\n",
              "      <th>1</th>\n",
              "      <td>2019-01-04</td>\n",
              "      <td>facebook</td>\n",
              "      <td>RTG_NYC_Cart Add</td>\n",
              "      <td>3.17</td>\n",
              "      <td>133</td>\n",
              "      <td>1</td>\n",
              "      <td>0.0</td>\n",
              "      <td>0.0</td>\n",
              "      <td>0.0</td>\n",
              "    </tr>\n",
              "  </tbody>\n",
              "</table>\n",
              "</div>"
            ],
            "text/plain": [
              "          date     platform          placement  ...  add_to_cart  purchase  revenue\n",
              "0  2019-01-04    instagram    LAL_CHI_Purchase  ...          0.0       0.0      0.0\n",
              "1  2019-01-04     facebook    RTG_NYC_Cart Add  ...          0.0       0.0      0.0\n",
              "\n",
              "[2 rows x 9 columns]"
            ]
          },
          "metadata": {
            "tags": []
          },
          "execution_count": 578
        }
      ]
    },
    {
      "cell_type": "markdown",
      "metadata": {
        "id": "nkTScZHJLIxc",
        "colab_type": "text"
      },
      "source": [
        "### VII. Save data"
      ]
    },
    {
      "cell_type": "code",
      "metadata": {
        "id": "51NDQMd-Jo02",
        "colab_type": "code",
        "colab": {}
      },
      "source": [
        "df.to_csv('/content/drive/My Drive/giant_spoon_analytics_test/merged_data.csv', index=False)"
      ],
      "execution_count": null,
      "outputs": []
    },
    {
      "cell_type": "markdown",
      "metadata": {
        "id": "Dqj_xpE_3cro",
        "colab_type": "text"
      },
      "source": [
        "# 3. Predict March Purchases\n",
        "\n",
        "### Imports"
      ]
    },
    {
      "cell_type": "code",
      "metadata": {
        "id": "eGii9OvY_Sac",
        "colab_type": "code",
        "colab": {}
      },
      "source": [
        "from statsmodels.tsa.seasonal import seasonal_decompose\n",
        "from statsmodels.graphics.tsaplots import plot_acf\n",
        "from statsmodels.graphics.tsaplots import plot_pacf\n",
        "import statsmodels.api as sm\n",
        "from sklearn.metrics import r2_score, mean_squared_error"
      ],
      "execution_count": null,
      "outputs": []
    },
    {
      "cell_type": "markdown",
      "metadata": {
        "id": "QY2feXb__nsj",
        "colab_type": "text"
      },
      "source": [
        "Set `'date'` as index and group purchase data by date."
      ]
    },
    {
      "cell_type": "code",
      "metadata": {
        "id": "Lxvjog8H4wT1",
        "colab_type": "code",
        "colab": {}
      },
      "source": [
        "df['date'] = pd.to_datetime(df['date'])\n",
        "purchases = df.groupby('date')[['purchase']].mean()"
      ],
      "execution_count": null,
      "outputs": []
    },
    {
      "cell_type": "markdown",
      "metadata": {
        "id": "OGX9DqS7_1f-",
        "colab_type": "text"
      },
      "source": [
        "Check for seasonality:\n",
        "\n",
        "There seems to be a weekly pattern."
      ]
    },
    {
      "cell_type": "code",
      "metadata": {
        "id": "6YP27EQG3lvO",
        "colab_type": "code",
        "colab": {
          "base_uri": "https://localhost:8080/",
          "height": 303
        },
        "outputId": "a7dbd67e-cb45-41cf-b2aa-170824b06717"
      },
      "source": [
        "decomp = seasonal_decompose(purchases['purchase'])\n",
        "\n",
        "decomp.plot();"
      ],
      "execution_count": null,
      "outputs": [
        {
          "output_type": "display_data",
          "data": {
            "image/png": "[encoded data removed]",
            "text/plain": [
              "<Figure size 432x288 with 4 Axes>"
            ]
          },
          "metadata": {
            "tags": [],
            "needs_background": "light"
          }
        }
      ]
    },
    {
      "cell_type": "markdown",
      "metadata": {
        "id": "5nzm4FY6ADNO",
        "colab_type": "text"
      },
      "source": [
        "Check autocorrelation to see how much to lag."
      ]
    },
    {
      "cell_type": "code",
      "metadata": {
        "id": "uS5MYyyj6kKL",
        "colab_type": "code",
        "colab": {
          "base_uri": "https://localhost:8080/",
          "height": 281
        },
        "outputId": "7559dafd-3c98-45a0-d6b5-d258a6f8092b"
      },
      "source": [
        "plot_acf(purchases['purchase'], lags = 40);"
      ],
      "execution_count": null,
      "outputs": [
        {
          "output_type": "display_data",
          "data": {
            "image/png": "[encoded data removed]",
            "text/plain": [
              "<Figure size 432x288 with 1 Axes>"
            ]
          },
          "metadata": {
            "tags": [],
            "needs_background": "light"
          }
        }
      ]
    },
    {
      "cell_type": "code",
      "metadata": {
        "id": "4_CJARWl6Y3B",
        "colab_type": "code",
        "colab": {
          "base_uri": "https://localhost:8080/",
          "height": 349
        },
        "outputId": "5588ff0b-3271-466d-d402-1858513e6296"
      },
      "source": [
        "plot_pacf(purchases['purchase'], lags = 60);"
      ],
      "execution_count": null,
      "outputs": [
        {
          "output_type": "stream",
          "text": [
            "/usr/local/lib/python3.6/dist-packages/statsmodels/regression/linear_model.py:1358: RuntimeWarning: invalid value encountered in sqrt\n",
            "  return rho, np.sqrt(sigmasq)\n",
            "/usr/local/lib/python3.6/dist-packages/statsmodels/regression/linear_model.py:1350: RuntimeWarning: invalid value encountered in double_scalars\n",
            "  r[k] = (X[0:-k] * X[k:]).sum() / denom(k)\n"
          ],
          "name": "stderr"
        },
        {
          "output_type": "display_data",
          "data": {
            "image/png": "[encoded data removed]",
            "text/plain": [
              "<Figure size 432x288 with 1 Axes>"
            ]
          },
          "metadata": {
            "tags": [],
            "needs_background": "light"
          }
        }
      ]
    },
    {
      "cell_type": "markdown",
      "metadata": {
        "id": "S3UOsV0hALm2",
        "colab_type": "text"
      },
      "source": [
        "Create a column called `lag_38` that lags purchases by 38 days."
      ]
    },
    {
      "cell_type": "code",
      "metadata": {
        "id": "RlA13qxe6vR8",
        "colab_type": "code",
        "colab": {
          "base_uri": "https://localhost:8080/",
          "height": 235
        },
        "outputId": "d33536fa-1ddf-48ff-92d1-1aba6b0ffc7b"
      },
      "source": [
        "purchases['lag_38'] = purchases['purchase'].shift(38)\n",
        "\n",
        "purchases.head()"
      ],
      "execution_count": null,
      "outputs": [
        {
          "output_type": "execute_result",
          "data": {
            "text/html": [
              "<div>\n",
              "<style scoped>\n",
              "    .dataframe tbody tr th:only-of-type {\n",
              "        vertical-align: middle;\n",
              "    }\n",
              "\n",
              "    .dataframe tbody tr th {\n",
              "        vertical-align: top;\n",
              "    }\n",
              "\n",
              "    .dataframe thead th {\n",
              "        text-align: right;\n",
              "    }\n",
              "</style>\n",
              "<table border=\"1\" class=\"dataframe\">\n",
              "  <thead>\n",
              "    <tr style=\"text-align: right;\">\n",
              "      <th></th>\n",
              "      <th>purchase</th>\n",
              "      <th>lag_38</th>\n",
              "    </tr>\n",
              "    <tr>\n",
              "      <th>date</th>\n",
              "      <th></th>\n",
              "      <th></th>\n",
              "    </tr>\n",
              "  </thead>\n",
              "  <tbody>\n",
              "    <tr>\n",
              "      <th>2019-01-04</th>\n",
              "      <td>0.208333</td>\n",
              "      <td>NaN</td>\n",
              "    </tr>\n",
              "    <tr>\n",
              "      <th>2019-01-05</th>\n",
              "      <td>0.500000</td>\n",
              "      <td>NaN</td>\n",
              "    </tr>\n",
              "    <tr>\n",
              "      <th>2019-01-06</th>\n",
              "      <td>0.166667</td>\n",
              "      <td>NaN</td>\n",
              "    </tr>\n",
              "    <tr>\n",
              "      <th>2019-01-07</th>\n",
              "      <td>0.333333</td>\n",
              "      <td>NaN</td>\n",
              "    </tr>\n",
              "    <tr>\n",
              "      <th>2019-01-08</th>\n",
              "      <td>0.458333</td>\n",
              "      <td>NaN</td>\n",
              "    </tr>\n",
              "  </tbody>\n",
              "</table>\n",
              "</div>"
            ],
            "text/plain": [
              "            purchase  lag_38\n",
              "date                        \n",
              "2019-01-04  0.208333     NaN\n",
              "2019-01-05  0.500000     NaN\n",
              "2019-01-06  0.166667     NaN\n",
              "2019-01-07  0.333333     NaN\n",
              "2019-01-08  0.458333     NaN"
            ]
          },
          "metadata": {
            "tags": []
          },
          "execution_count": 559
        }
      ]
    },
    {
      "cell_type": "code",
      "metadata": {
        "id": "q8oNaOqn9a70",
        "colab_type": "code",
        "colab": {
          "base_uri": "https://localhost:8080/",
          "height": 235
        },
        "outputId": "fe51252a-a7b2-48c0-d6f1-af954a0496b7"
      },
      "source": [
        "purchases.tail()"
      ],
      "execution_count": null,
      "outputs": [
        {
          "output_type": "execute_result",
          "data": {
            "text/html": [
              "<div>\n",
              "<style scoped>\n",
              "    .dataframe tbody tr th:only-of-type {\n",
              "        vertical-align: middle;\n",
              "    }\n",
              "\n",
              "    .dataframe tbody tr th {\n",
              "        vertical-align: top;\n",
              "    }\n",
              "\n",
              "    .dataframe thead th {\n",
              "        text-align: right;\n",
              "    }\n",
              "</style>\n",
              "<table border=\"1\" class=\"dataframe\">\n",
              "  <thead>\n",
              "    <tr style=\"text-align: right;\">\n",
              "      <th></th>\n",
              "      <th>purchase</th>\n",
              "      <th>lag_38</th>\n",
              "    </tr>\n",
              "    <tr>\n",
              "      <th>date</th>\n",
              "      <th></th>\n",
              "      <th></th>\n",
              "    </tr>\n",
              "  </thead>\n",
              "  <tbody>\n",
              "    <tr>\n",
              "      <th>2019-02-24</th>\n",
              "      <td>0.000000</td>\n",
              "      <td>1.562500</td>\n",
              "    </tr>\n",
              "    <tr>\n",
              "      <th>2019-02-25</th>\n",
              "      <td>0.714286</td>\n",
              "      <td>2.277778</td>\n",
              "    </tr>\n",
              "    <tr>\n",
              "      <th>2019-02-26</th>\n",
              "      <td>0.500000</td>\n",
              "      <td>3.750000</td>\n",
              "    </tr>\n",
              "    <tr>\n",
              "      <th>2019-02-27</th>\n",
              "      <td>0.000000</td>\n",
              "      <td>3.555556</td>\n",
              "    </tr>\n",
              "    <tr>\n",
              "      <th>2019-02-28</th>\n",
              "      <td>0.571429</td>\n",
              "      <td>2.588235</td>\n",
              "    </tr>\n",
              "  </tbody>\n",
              "</table>\n",
              "</div>"
            ],
            "text/plain": [
              "            purchase    lag_38\n",
              "date                          \n",
              "2019-02-24  0.000000  1.562500\n",
              "2019-02-25  0.714286  2.277778\n",
              "2019-02-26  0.500000  3.750000\n",
              "2019-02-27  0.000000  3.555556\n",
              "2019-02-28  0.571429  2.588235"
            ]
          },
          "metadata": {
            "tags": []
          },
          "execution_count": 546
        }
      ]
    },
    {
      "cell_type": "markdown",
      "metadata": {
        "id": "_JTgL5bVAWc3",
        "colab_type": "text"
      },
      "source": [
        "### Pre-Modeling\n",
        "\n",
        "Generate train/test split."
      ]
    },
    {
      "cell_type": "code",
      "metadata": {
        "id": "3QuSWWe49eu7",
        "colab_type": "code",
        "colab": {}
      },
      "source": [
        "X_train, X_test, y_train, y_test = train_test_split(purchases.drop(columns = 'purchase'),\n",
        "                                                    purchases['purchase'],\n",
        "                                                    test_size = 0.25,\n",
        "                                                    shuffle = False)"
      ],
      "execution_count": null,
      "outputs": []
    },
    {
      "cell_type": "code",
      "metadata": {
        "id": "PBSiwY_W9uOp",
        "colab_type": "code",
        "colab": {
          "base_uri": "https://localhost:8080/",
          "height": 85
        },
        "outputId": "1c177645-83e4-4166-d55a-f7da9f63ea27"
      },
      "source": [
        "print(X_train.shape)\n",
        "print(X_test.shape)\n",
        "print(y_train.shape)\n",
        "print(y_test.shape)"
      ],
      "execution_count": null,
      "outputs": [
        {
          "output_type": "stream",
          "text": [
            "(42, 1)\n",
            "(14, 1)\n",
            "(42,)\n",
            "(14,)\n"
          ],
          "name": "stdout"
        }
      ]
    },
    {
      "cell_type": "markdown",
      "metadata": {
        "id": "G-JTMoa2AkqL",
        "colab_type": "text"
      },
      "source": [
        "Add constant to model with `statsmodels`."
      ]
    },
    {
      "cell_type": "code",
      "metadata": {
        "id": "XNjho4mp-LwQ",
        "colab_type": "code",
        "colab": {}
      },
      "source": [
        "X_train = sm.add_constant(X_train)\n",
        "X_test = sm.add_constant(X_test)"
      ],
      "execution_count": null,
      "outputs": []
    },
    {
      "cell_type": "markdown",
      "metadata": {
        "id": "4yamL-4DAzxc",
        "colab_type": "text"
      },
      "source": [
        "Drop missing values from lags because `statsmodels` won't work on missing values. Subset y_train to keep only indices from X_train."
      ]
    },
    {
      "cell_type": "code",
      "metadata": {
        "id": "xaM7ekat-Rkm",
        "colab_type": "code",
        "colab": {}
      },
      "source": [
        "X_train.dropna(inplace=True)\n",
        "y_train = y_train[X_train.index] "
      ],
      "execution_count": null,
      "outputs": []
    },
    {
      "cell_type": "markdown",
      "metadata": {
        "id": "P8INHAw3BJq1",
        "colab_type": "text"
      },
      "source": [
        "### Instantiate & fit model\n",
        "\n",
        "Interpreting Summary:\n",
        "\n",
        "- "
      ]
    },
    {
      "cell_type": "code",
      "metadata": {
        "id": "3G-JSWPu-XTU",
        "colab_type": "code",
        "colab": {
          "base_uri": "https://localhost:8080/",
          "height": 496
        },
        "outputId": "3fa10960-e4a6-42d1-afe8-018148da0efd"
      },
      "source": [
        "lm = sm.OLS(y_train, X_train)\n",
        "lm_results = lm.fit()\n",
        "\n",
        "print(lm_results.summary())"
      ],
      "execution_count": null,
      "outputs": [
        {
          "output_type": "stream",
          "text": [
            "                            OLS Regression Results                            \n",
            "==============================================================================\n",
            "Dep. Variable:               purchase   R-squared:                       0.011\n",
            "Model:                            OLS   Adj. R-squared:                 -0.483\n",
            "Method:                 Least Squares   F-statistic:                   0.02263\n",
            "Date:                Mon, 13 Jul 2020   Prob (F-statistic):              0.894\n",
            "Time:                        16:21:19   Log-Likelihood:                -3.3678\n",
            "No. Observations:                   4   AIC:                             10.74\n",
            "Df Residuals:                       2   BIC:                             9.508\n",
            "Df Model:                           1                                         \n",
            "Covariance Type:            nonrobust                                         \n",
            "==============================================================================\n",
            "                 coef    std err          t      P>|t|      [0.025      0.975]\n",
            "------------------------------------------------------------------------------\n",
            "const          0.8639      1.007      0.858      0.481      -3.467       5.195\n",
            "lag_38        -0.4606      3.062     -0.150      0.894     -13.635      12.714\n",
            "==============================================================================\n",
            "Omnibus:                          nan   Durbin-Watson:                   0.591\n",
            "Prob(Omnibus):                    nan   Jarque-Bera (JB):                0.359\n",
            "Skew:                           0.113   Prob(JB):                        0.836\n",
            "Kurtosis:                       1.550   Cond. No.                         8.43\n",
            "==============================================================================\n",
            "\n",
            "Warnings:\n",
            "[1] Standard Errors assume that the covariance matrix of the errors is correctly specified.\n"
          ],
          "name": "stdout"
        },
        {
          "output_type": "stream",
          "text": [
            "/usr/local/lib/python3.6/dist-packages/statsmodels/stats/stattools.py:71: ValueWarning: omni_normtest is not valid with less than 8 observations; 4 samples were given.\n",
            "  \"samples were given.\" % int(n), ValueWarning)\n"
          ],
          "name": "stderr"
        }
      ]
    },
    {
      "cell_type": "code",
      "metadata": {
        "id": "vAC3uk8L-cDS",
        "colab_type": "code",
        "colab": {
          "base_uri": "https://localhost:8080/",
          "height": 289
        },
        "outputId": "1159c7de-35e7-46ff-c5e5-312513692412"
      },
      "source": [
        "lm_results.predict(X_test)"
      ],
      "execution_count": null,
      "outputs": [
        {
          "output_type": "execute_result",
          "data": {
            "text/plain": [
              "date\n",
              "2019-02-15    0.652819\n",
              "2019-02-16    0.748780\n",
              "2019-02-17    0.719992\n",
              "2019-02-18    0.835145\n",
              "2019-02-19    0.761575\n",
              "2019-02-20    0.604839\n",
              "2019-02-21   -1.870954\n",
              "2019-02-22    0.587566\n",
              "2019-02-23   -0.345175\n",
              "2019-02-24    0.144226\n",
              "2019-02-25   -0.185240\n",
              "2019-02-26   -0.863364\n",
              "2019-02-27   -0.773800\n",
              "2019-02-28   -0.328241\n",
              "dtype: float64"
            ]
          },
          "metadata": {
            "tags": []
          },
          "execution_count": 553
        }
      ]
    },
    {
      "cell_type": "code",
      "metadata": {
        "id": "_iJFLdn0EMqx",
        "colab_type": "code",
        "colab": {
          "base_uri": "https://localhost:8080/",
          "height": 514
        },
        "outputId": "0194ef97-a298-483f-f584-1055ce068637"
      },
      "source": [
        "X_test"
      ],
      "execution_count": null,
      "outputs": [
        {
          "output_type": "execute_result",
          "data": {
            "text/html": [
              "<div>\n",
              "<style scoped>\n",
              "    .dataframe tbody tr th:only-of-type {\n",
              "        vertical-align: middle;\n",
              "    }\n",
              "\n",
              "    .dataframe tbody tr th {\n",
              "        vertical-align: top;\n",
              "    }\n",
              "\n",
              "    .dataframe thead th {\n",
              "        text-align: right;\n",
              "    }\n",
              "</style>\n",
              "<table border=\"1\" class=\"dataframe\">\n",
              "  <thead>\n",
              "    <tr style=\"text-align: right;\">\n",
              "      <th></th>\n",
              "      <th>const</th>\n",
              "      <th>lag_38</th>\n",
              "    </tr>\n",
              "    <tr>\n",
              "      <th>date</th>\n",
              "      <th></th>\n",
              "      <th></th>\n",
              "    </tr>\n",
              "  </thead>\n",
              "  <tbody>\n",
              "    <tr>\n",
              "      <th>2019-02-15</th>\n",
              "      <td>1.0</td>\n",
              "      <td>0.458333</td>\n",
              "    </tr>\n",
              "    <tr>\n",
              "      <th>2019-02-16</th>\n",
              "      <td>1.0</td>\n",
              "      <td>0.250000</td>\n",
              "    </tr>\n",
              "    <tr>\n",
              "      <th>2019-02-17</th>\n",
              "      <td>1.0</td>\n",
              "      <td>0.312500</td>\n",
              "    </tr>\n",
              "    <tr>\n",
              "      <th>2019-02-18</th>\n",
              "      <td>1.0</td>\n",
              "      <td>0.062500</td>\n",
              "    </tr>\n",
              "    <tr>\n",
              "      <th>2019-02-19</th>\n",
              "      <td>1.0</td>\n",
              "      <td>0.222222</td>\n",
              "    </tr>\n",
              "    <tr>\n",
              "      <th>2019-02-20</th>\n",
              "      <td>1.0</td>\n",
              "      <td>0.562500</td>\n",
              "    </tr>\n",
              "    <tr>\n",
              "      <th>2019-02-21</th>\n",
              "      <td>1.0</td>\n",
              "      <td>5.937500</td>\n",
              "    </tr>\n",
              "    <tr>\n",
              "      <th>2019-02-22</th>\n",
              "      <td>1.0</td>\n",
              "      <td>0.600000</td>\n",
              "    </tr>\n",
              "    <tr>\n",
              "      <th>2019-02-23</th>\n",
              "      <td>1.0</td>\n",
              "      <td>2.625000</td>\n",
              "    </tr>\n",
              "    <tr>\n",
              "      <th>2019-02-24</th>\n",
              "      <td>1.0</td>\n",
              "      <td>1.562500</td>\n",
              "    </tr>\n",
              "    <tr>\n",
              "      <th>2019-02-25</th>\n",
              "      <td>1.0</td>\n",
              "      <td>2.277778</td>\n",
              "    </tr>\n",
              "    <tr>\n",
              "      <th>2019-02-26</th>\n",
              "      <td>1.0</td>\n",
              "      <td>3.750000</td>\n",
              "    </tr>\n",
              "    <tr>\n",
              "      <th>2019-02-27</th>\n",
              "      <td>1.0</td>\n",
              "      <td>3.555556</td>\n",
              "    </tr>\n",
              "    <tr>\n",
              "      <th>2019-02-28</th>\n",
              "      <td>1.0</td>\n",
              "      <td>2.588235</td>\n",
              "    </tr>\n",
              "  </tbody>\n",
              "</table>\n",
              "</div>"
            ],
            "text/plain": [
              "            const    lag_38\n",
              "date                       \n",
              "2019-02-15    1.0  0.458333\n",
              "2019-02-16    1.0  0.250000\n",
              "2019-02-17    1.0  0.312500\n",
              "2019-02-18    1.0  0.062500\n",
              "2019-02-19    1.0  0.222222\n",
              "2019-02-20    1.0  0.562500\n",
              "2019-02-21    1.0  5.937500\n",
              "2019-02-22    1.0  0.600000\n",
              "2019-02-23    1.0  2.625000\n",
              "2019-02-24    1.0  1.562500\n",
              "2019-02-25    1.0  2.277778\n",
              "2019-02-26    1.0  3.750000\n",
              "2019-02-27    1.0  3.555556\n",
              "2019-02-28    1.0  2.588235"
            ]
          },
          "metadata": {
            "tags": []
          },
          "execution_count": 568
        }
      ]
    },
    {
      "cell_type": "code",
      "metadata": {
        "id": "ovYdD6gd_Zj2",
        "colab_type": "code",
        "colab": {
          "base_uri": "https://localhost:8080/",
          "height": 34
        },
        "outputId": "940bd62b-a546-4d66-c942-7c53614b1eb3"
      },
      "source": [
        "r2_score(y_test, lm_results.predict(X_test))"
      ],
      "execution_count": null,
      "outputs": [
        {
          "output_type": "execute_result",
          "data": {
            "text/plain": [
              "-16.03612964416618"
            ]
          },
          "metadata": {
            "tags": []
          },
          "execution_count": 554
        }
      ]
    },
    {
      "cell_type": "code",
      "metadata": {
        "id": "5q4qGqPI_fg1",
        "colab_type": "code",
        "colab": {
          "base_uri": "https://localhost:8080/",
          "height": 34
        },
        "outputId": "93892145-840a-4c59-c98e-4398dd0516b5"
      },
      "source": [
        "mean_squared_error(y_test, lm_results.predict(X_test)) ** 0.5"
      ],
      "execution_count": null,
      "outputs": [
        {
          "output_type": "execute_result",
          "data": {
            "text/plain": [
              "0.95760184686084"
            ]
          },
          "metadata": {
            "tags": []
          },
          "execution_count": 555
        }
      ]
    },
    {
      "cell_type": "code",
      "metadata": {
        "id": "yQpiU4UG_g6I",
        "colab_type": "code",
        "colab": {
          "base_uri": "https://localhost:8080/",
          "height": 511
        },
        "outputId": "ed508362-cc7b-45a2-d627-540a5ce6a0a2"
      },
      "source": [
        "plt.figure(figsize=(15,8))\n",
        "\n",
        "# Plot training data.\n",
        "plt.plot(y_train.index, y_train.values, color = 'blue')\n",
        "\n",
        "# Plot testing data.\n",
        "plt.plot(y_test.index, y_test.values, color = 'orange')\n",
        "\n",
        "# Plot predicted test values.\n",
        "plt.plot(lm_results.predict(X_test), color = 'green')\n",
        "\n",
        "# Set label.\n",
        "plt.title(label = 'Forecasting Purchases Jan-Feb 2019', fontsize=24)\n",
        "\n",
        "# Resize tick marks.\n",
        "plt.xticks(fontsize=12)\n",
        "plt.yticks(fontsize=12);"
      ],
      "execution_count": null,
      "outputs": [
        {
          "output_type": "display_data",
          "data": {
            "image/png": "[encoded data removed]",
            "text/plain": [
              "<Figure size 1080x576 with 1 Axes>"
            ]
          },
          "metadata": {
            "tags": [],
            "needs_background": "light"
          }
        }
      ]
    },
    {
      "cell_type": "code",
      "metadata": {
        "id": "3_cKSO4v_p85",
        "colab_type": "code",
        "colab": {
          "base_uri": "https://localhost:8080/",
          "height": 514
        },
        "outputId": "d9df094a-2216-4d70-cce2-8ee6ae632b1d"
      },
      "source": [
        "X_test"
      ],
      "execution_count": null,
      "outputs": [
        {
          "output_type": "execute_result",
          "data": {
            "text/html": [
              "<div>\n",
              "<style scoped>\n",
              "    .dataframe tbody tr th:only-of-type {\n",
              "        vertical-align: middle;\n",
              "    }\n",
              "\n",
              "    .dataframe tbody tr th {\n",
              "        vertical-align: top;\n",
              "    }\n",
              "\n",
              "    .dataframe thead th {\n",
              "        text-align: right;\n",
              "    }\n",
              "</style>\n",
              "<table border=\"1\" class=\"dataframe\">\n",
              "  <thead>\n",
              "    <tr style=\"text-align: right;\">\n",
              "      <th></th>\n",
              "      <th>const</th>\n",
              "      <th>lag_38</th>\n",
              "    </tr>\n",
              "    <tr>\n",
              "      <th>date</th>\n",
              "      <th></th>\n",
              "      <th></th>\n",
              "    </tr>\n",
              "  </thead>\n",
              "  <tbody>\n",
              "    <tr>\n",
              "      <th>2019-02-15</th>\n",
              "      <td>1.0</td>\n",
              "      <td>0.458333</td>\n",
              "    </tr>\n",
              "    <tr>\n",
              "      <th>2019-02-16</th>\n",
              "      <td>1.0</td>\n",
              "      <td>0.250000</td>\n",
              "    </tr>\n",
              "    <tr>\n",
              "      <th>2019-02-17</th>\n",
              "      <td>1.0</td>\n",
              "      <td>0.312500</td>\n",
              "    </tr>\n",
              "    <tr>\n",
              "      <th>2019-02-18</th>\n",
              "      <td>1.0</td>\n",
              "      <td>0.062500</td>\n",
              "    </tr>\n",
              "    <tr>\n",
              "      <th>2019-02-19</th>\n",
              "      <td>1.0</td>\n",
              "      <td>0.222222</td>\n",
              "    </tr>\n",
              "    <tr>\n",
              "      <th>2019-02-20</th>\n",
              "      <td>1.0</td>\n",
              "      <td>0.562500</td>\n",
              "    </tr>\n",
              "    <tr>\n",
              "      <th>2019-02-21</th>\n",
              "      <td>1.0</td>\n",
              "      <td>5.937500</td>\n",
              "    </tr>\n",
              "    <tr>\n",
              "      <th>2019-02-22</th>\n",
              "      <td>1.0</td>\n",
              "      <td>0.600000</td>\n",
              "    </tr>\n",
              "    <tr>\n",
              "      <th>2019-02-23</th>\n",
              "      <td>1.0</td>\n",
              "      <td>2.625000</td>\n",
              "    </tr>\n",
              "    <tr>\n",
              "      <th>2019-02-24</th>\n",
              "      <td>1.0</td>\n",
              "      <td>1.562500</td>\n",
              "    </tr>\n",
              "    <tr>\n",
              "      <th>2019-02-25</th>\n",
              "      <td>1.0</td>\n",
              "      <td>2.277778</td>\n",
              "    </tr>\n",
              "    <tr>\n",
              "      <th>2019-02-26</th>\n",
              "      <td>1.0</td>\n",
              "      <td>3.750000</td>\n",
              "    </tr>\n",
              "    <tr>\n",
              "      <th>2019-02-27</th>\n",
              "      <td>1.0</td>\n",
              "      <td>3.555556</td>\n",
              "    </tr>\n",
              "    <tr>\n",
              "      <th>2019-02-28</th>\n",
              "      <td>1.0</td>\n",
              "      <td>2.588235</td>\n",
              "    </tr>\n",
              "  </tbody>\n",
              "</table>\n",
              "</div>"
            ],
            "text/plain": [
              "            const    lag_38\n",
              "date                       \n",
              "2019-02-15    1.0  0.458333\n",
              "2019-02-16    1.0  0.250000\n",
              "2019-02-17    1.0  0.312500\n",
              "2019-02-18    1.0  0.062500\n",
              "2019-02-19    1.0  0.222222\n",
              "2019-02-20    1.0  0.562500\n",
              "2019-02-21    1.0  5.937500\n",
              "2019-02-22    1.0  0.600000\n",
              "2019-02-23    1.0  2.625000\n",
              "2019-02-24    1.0  1.562500\n",
              "2019-02-25    1.0  2.277778\n",
              "2019-02-26    1.0  3.750000\n",
              "2019-02-27    1.0  3.555556\n",
              "2019-02-28    1.0  2.588235"
            ]
          },
          "metadata": {
            "tags": []
          },
          "execution_count": 557
        }
      ]
    },
    {
      "cell_type": "code",
      "metadata": {
        "id": "VzqilJszI5Ga",
        "colab_type": "code",
        "colab": {
          "base_uri": "https://localhost:8080/",
          "height": 111
        },
        "outputId": "f2e9f8bc-d121-4b61-87af-03b32ef165ae"
      },
      "source": [
        "march = pd.read_csv('/content/drive/My Drive/giant_spoon_analytics_test/march_dates.csv')\n",
        "march.head(2)"
      ],
      "execution_count": null,
      "outputs": [
        {
          "output_type": "execute_result",
          "data": {
            "text/html": [
              "<div>\n",
              "<style scoped>\n",
              "    .dataframe tbody tr th:only-of-type {\n",
              "        vertical-align: middle;\n",
              "    }\n",
              "\n",
              "    .dataframe tbody tr th {\n",
              "        vertical-align: top;\n",
              "    }\n",
              "\n",
              "    .dataframe thead th {\n",
              "        text-align: right;\n",
              "    }\n",
              "</style>\n",
              "<table border=\"1\" class=\"dataframe\">\n",
              "  <thead>\n",
              "    <tr style=\"text-align: right;\">\n",
              "      <th></th>\n",
              "      <th>Dates</th>\n",
              "      <th>Purchases</th>\n",
              "    </tr>\n",
              "  </thead>\n",
              "  <tbody>\n",
              "    <tr>\n",
              "      <th>0</th>\n",
              "      <td>2019-03-01</td>\n",
              "      <td>NaN</td>\n",
              "    </tr>\n",
              "    <tr>\n",
              "      <th>1</th>\n",
              "      <td>2019-03-02</td>\n",
              "      <td>NaN</td>\n",
              "    </tr>\n",
              "  </tbody>\n",
              "</table>\n",
              "</div>"
            ],
            "text/plain": [
              "        Dates  Purchases\n",
              "0  2019-03-01        NaN\n",
              "1  2019-03-02        NaN"
            ]
          },
          "metadata": {
            "tags": []
          },
          "execution_count": 567
        }
      ]
    },
    {
      "cell_type": "code",
      "metadata": {
        "id": "oTkxXm2-D58F",
        "colab_type": "code",
        "colab": {}
      },
      "source": [
        ""
      ],
      "execution_count": null,
      "outputs": []
    }
  ]
}