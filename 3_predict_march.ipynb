{
  "nbformat": 4,
  "nbformat_minor": 0,
  "metadata": {
    "colab": {
      "name": "3.predict_march.ipynb",
      "provenance": [],
      "toc_visible": true,
      "mount_file_id": "1c3D2LCuApYy9AdKM1gK5fSXQJdgfj1Bu",
      "authorship_tag": "ABX9TyOk670nlULfZAbknP5GrVzc",
      "include_colab_link": true
    },
    "kernelspec": {
      "name": "python3",
      "display_name": "Python 3"
    }
  },
  "cells": [
    {
      "cell_type": "markdown",
      "metadata": {
        "id": "view-in-github",
        "colab_type": "text"
      },
      "source": [
        "<a href=\"https://colab.research.google.com/github/dinabahar/analyticstest_giantspoon/blob/master/3_predict_march.ipynb\" target=\"_parent\"><img src=\"https://colab.research.google.com/assets/colab-badge.svg\" alt=\"Open In Colab\"/></a>"
      ]
    },
    {
      "cell_type": "markdown",
      "metadata": {
        "id": "Dqj_xpE_3cro",
        "colab_type": "text"
      },
      "source": [
        "# 3. Predict March Purchases"
      ]
    },
    {
      "cell_type": "markdown",
      "metadata": {
        "id": "io6ZeUi2Kmya",
        "colab_type": "text"
      },
      "source": [
        "### I. Imports"
      ]
    },
    {
      "cell_type": "code",
      "metadata": {
        "id": "wZ_1jaKCTjDm",
        "colab_type": "code",
        "colab": {}
      },
      "source": [
        "import pandas as pd\n",
        "import numpy as np\n",
        "import matplotlib.pyplot as plt\n",
        "\n",
        "from sklearn.model_selection import train_test_split\n",
        "from statsmodels.tsa.seasonal import seasonal_decompose\n",
        "from statsmodels.graphics.tsaplots import plot_acf\n",
        "from statsmodels.graphics.tsaplots import plot_pacf\n",
        "import statsmodels.api as sm\n",
        "from sklearn.metrics import r2_score, mean_squared_error\n",
        "\n",
        "# This will allow us to avoid a FutureWarning when plotting.\n",
        "from pandas.plotting import register_matplotlib_converters\n",
        "register_matplotlib_converters()"
      ],
      "execution_count": 151,
      "outputs": []
    },
    {
      "cell_type": "markdown",
      "metadata": {
        "id": "newExsMYNtii",
        "colab_type": "text"
      },
      "source": [
        "### II. Read `merged_data`"
      ]
    },
    {
      "cell_type": "code",
      "metadata": {
        "id": "ime6JVjhNz66",
        "colab_type": "code",
        "colab": {
          "base_uri": "https://localhost:8080/",
          "height": 204
        },
        "outputId": "c0ed0fd6-3006-435a-f4d9-415c759e8fd9"
      },
      "source": [
        "df = pd.read_csv('/content/drive/My Drive/giant_spoon_analytics_test/merged_data.csv')\n",
        "df.head()"
      ],
      "execution_count": 152,
      "outputs": [
        {
          "output_type": "execute_result",
          "data": {
            "text/html": [
              "<div>\n",
              "<style scoped>\n",
              "    .dataframe tbody tr th:only-of-type {\n",
              "        vertical-align: middle;\n",
              "    }\n",
              "\n",
              "    .dataframe tbody tr th {\n",
              "        vertical-align: top;\n",
              "    }\n",
              "\n",
              "    .dataframe thead th {\n",
              "        text-align: right;\n",
              "    }\n",
              "</style>\n",
              "<table border=\"1\" class=\"dataframe\">\n",
              "  <thead>\n",
              "    <tr style=\"text-align: right;\">\n",
              "      <th></th>\n",
              "      <th>date</th>\n",
              "      <th>platform</th>\n",
              "      <th>placement</th>\n",
              "      <th>spend</th>\n",
              "      <th>impressions</th>\n",
              "      <th>clicks</th>\n",
              "      <th>add_to_cart</th>\n",
              "      <th>purchase</th>\n",
              "      <th>revenue</th>\n",
              "    </tr>\n",
              "  </thead>\n",
              "  <tbody>\n",
              "    <tr>\n",
              "      <th>0</th>\n",
              "      <td>2019-01-04</td>\n",
              "      <td>instagram</td>\n",
              "      <td>LAL_CHI_Purchase</td>\n",
              "      <td>6.63</td>\n",
              "      <td>1339</td>\n",
              "      <td>4</td>\n",
              "      <td>0.0</td>\n",
              "      <td>0.0</td>\n",
              "      <td>0.0</td>\n",
              "    </tr>\n",
              "    <tr>\n",
              "      <th>1</th>\n",
              "      <td>2019-01-04</td>\n",
              "      <td>facebook</td>\n",
              "      <td>RTG_NYC_Cart Add</td>\n",
              "      <td>3.17</td>\n",
              "      <td>133</td>\n",
              "      <td>1</td>\n",
              "      <td>0.0</td>\n",
              "      <td>0.0</td>\n",
              "      <td>0.0</td>\n",
              "    </tr>\n",
              "    <tr>\n",
              "      <th>2</th>\n",
              "      <td>2019-01-04</td>\n",
              "      <td>instagram</td>\n",
              "      <td>LAL_NYC_Purchase</td>\n",
              "      <td>10.11</td>\n",
              "      <td>2389</td>\n",
              "      <td>14</td>\n",
              "      <td>1.0</td>\n",
              "      <td>1.0</td>\n",
              "      <td>70.0</td>\n",
              "    </tr>\n",
              "    <tr>\n",
              "      <th>3</th>\n",
              "      <td>2019-01-04</td>\n",
              "      <td>facebook</td>\n",
              "      <td>LAL_DC_Purchase</td>\n",
              "      <td>3.14</td>\n",
              "      <td>378</td>\n",
              "      <td>2</td>\n",
              "      <td>0.0</td>\n",
              "      <td>0.0</td>\n",
              "      <td>0.0</td>\n",
              "    </tr>\n",
              "    <tr>\n",
              "      <th>4</th>\n",
              "      <td>2019-01-04</td>\n",
              "      <td>facebook</td>\n",
              "      <td>RTG_CHI_Cart Add</td>\n",
              "      <td>14.41</td>\n",
              "      <td>2488</td>\n",
              "      <td>10</td>\n",
              "      <td>1.0</td>\n",
              "      <td>1.0</td>\n",
              "      <td>143.0</td>\n",
              "    </tr>\n",
              "  </tbody>\n",
              "</table>\n",
              "</div>"
            ],
            "text/plain": [
              "          date     platform          placement  ...  add_to_cart  purchase  revenue\n",
              "0  2019-01-04    instagram    LAL_CHI_Purchase  ...          0.0       0.0      0.0\n",
              "1  2019-01-04     facebook    RTG_NYC_Cart Add  ...          0.0       0.0      0.0\n",
              "2  2019-01-04    instagram    LAL_NYC_Purchase  ...          1.0       1.0     70.0\n",
              "3  2019-01-04     facebook     LAL_DC_Purchase  ...          0.0       0.0      0.0\n",
              "4  2019-01-04     facebook    RTG_CHI_Cart Add  ...          1.0       1.0    143.0\n",
              "\n",
              "[5 rows x 9 columns]"
            ]
          },
          "metadata": {
            "tags": []
          },
          "execution_count": 152
        }
      ]
    },
    {
      "cell_type": "code",
      "metadata": {
        "id": "vvo_wm6VPwzP",
        "colab_type": "code",
        "colab": {
          "base_uri": "https://localhost:8080/",
          "height": 204
        },
        "outputId": "85a22ee8-973e-489c-f404-4816818d4c48"
      },
      "source": [
        "march = pd.read_csv('/content/drive/My Drive/giant_spoon_analytics_test/march_dates.csv')\n",
        "march.head()"
      ],
      "execution_count": 153,
      "outputs": [
        {
          "output_type": "execute_result",
          "data": {
            "text/html": [
              "<div>\n",
              "<style scoped>\n",
              "    .dataframe tbody tr th:only-of-type {\n",
              "        vertical-align: middle;\n",
              "    }\n",
              "\n",
              "    .dataframe tbody tr th {\n",
              "        vertical-align: top;\n",
              "    }\n",
              "\n",
              "    .dataframe thead th {\n",
              "        text-align: right;\n",
              "    }\n",
              "</style>\n",
              "<table border=\"1\" class=\"dataframe\">\n",
              "  <thead>\n",
              "    <tr style=\"text-align: right;\">\n",
              "      <th></th>\n",
              "      <th>date</th>\n",
              "      <th>purchase</th>\n",
              "    </tr>\n",
              "  </thead>\n",
              "  <tbody>\n",
              "    <tr>\n",
              "      <th>0</th>\n",
              "      <td>2019-03-01</td>\n",
              "      <td>NaN</td>\n",
              "    </tr>\n",
              "    <tr>\n",
              "      <th>1</th>\n",
              "      <td>2019-03-02</td>\n",
              "      <td>NaN</td>\n",
              "    </tr>\n",
              "    <tr>\n",
              "      <th>2</th>\n",
              "      <td>2019-03-03</td>\n",
              "      <td>NaN</td>\n",
              "    </tr>\n",
              "    <tr>\n",
              "      <th>3</th>\n",
              "      <td>2019-03-04</td>\n",
              "      <td>NaN</td>\n",
              "    </tr>\n",
              "    <tr>\n",
              "      <th>4</th>\n",
              "      <td>2019-03-05</td>\n",
              "      <td>NaN</td>\n",
              "    </tr>\n",
              "  </tbody>\n",
              "</table>\n",
              "</div>"
            ],
            "text/plain": [
              "         date  purchase\n",
              "0  2019-03-01       NaN\n",
              "1  2019-03-02       NaN\n",
              "2  2019-03-03       NaN\n",
              "3  2019-03-04       NaN\n",
              "4  2019-03-05       NaN"
            ]
          },
          "metadata": {
            "tags": []
          },
          "execution_count": 153
        }
      ]
    },
    {
      "cell_type": "markdown",
      "metadata": {
        "id": "QY2feXb__nsj",
        "colab_type": "text"
      },
      "source": [
        "### III. Data prep\n",
        "- Set `'date'` as index\n",
        "- Group purchase data by date\n",
        "- Create March data for predictions"
      ]
    },
    {
      "cell_type": "code",
      "metadata": {
        "id": "Lxvjog8H4wT1",
        "colab_type": "code",
        "colab": {
          "base_uri": "https://localhost:8080/",
          "height": 450
        },
        "outputId": "cf5e61c0-490d-4e81-e447-d6536f6b1710"
      },
      "source": [
        "df['date'] = pd.to_datetime(df['date'])\n",
        "march['date'] = pd.to_datetime(march['date'])\n",
        "\n",
        "purchases = df.groupby('date')[['purchase']].mean()\n",
        "march = march.set_index('date')\n",
        "\n",
        "purchases = pd.concat([purchases, march], axis=0)\n",
        "\n",
        "purchases"
      ],
      "execution_count": 154,
      "outputs": [
        {
          "output_type": "execute_result",
          "data": {
            "text/html": [
              "<div>\n",
              "<style scoped>\n",
              "    .dataframe tbody tr th:only-of-type {\n",
              "        vertical-align: middle;\n",
              "    }\n",
              "\n",
              "    .dataframe tbody tr th {\n",
              "        vertical-align: top;\n",
              "    }\n",
              "\n",
              "    .dataframe thead th {\n",
              "        text-align: right;\n",
              "    }\n",
              "</style>\n",
              "<table border=\"1\" class=\"dataframe\">\n",
              "  <thead>\n",
              "    <tr style=\"text-align: right;\">\n",
              "      <th></th>\n",
              "      <th>purchase</th>\n",
              "    </tr>\n",
              "    <tr>\n",
              "      <th>date</th>\n",
              "      <th></th>\n",
              "    </tr>\n",
              "  </thead>\n",
              "  <tbody>\n",
              "    <tr>\n",
              "      <th>2019-01-04</th>\n",
              "      <td>0.208333</td>\n",
              "    </tr>\n",
              "    <tr>\n",
              "      <th>2019-01-05</th>\n",
              "      <td>0.500000</td>\n",
              "    </tr>\n",
              "    <tr>\n",
              "      <th>2019-01-06</th>\n",
              "      <td>0.166667</td>\n",
              "    </tr>\n",
              "    <tr>\n",
              "      <th>2019-01-07</th>\n",
              "      <td>0.333333</td>\n",
              "    </tr>\n",
              "    <tr>\n",
              "      <th>2019-01-08</th>\n",
              "      <td>0.458333</td>\n",
              "    </tr>\n",
              "    <tr>\n",
              "      <th>...</th>\n",
              "      <td>...</td>\n",
              "    </tr>\n",
              "    <tr>\n",
              "      <th>2019-03-27</th>\n",
              "      <td>NaN</td>\n",
              "    </tr>\n",
              "    <tr>\n",
              "      <th>2019-03-28</th>\n",
              "      <td>NaN</td>\n",
              "    </tr>\n",
              "    <tr>\n",
              "      <th>2019-03-29</th>\n",
              "      <td>NaN</td>\n",
              "    </tr>\n",
              "    <tr>\n",
              "      <th>2019-03-30</th>\n",
              "      <td>NaN</td>\n",
              "    </tr>\n",
              "    <tr>\n",
              "      <th>2019-03-31</th>\n",
              "      <td>NaN</td>\n",
              "    </tr>\n",
              "  </tbody>\n",
              "</table>\n",
              "<p>87 rows × 1 columns</p>\n",
              "</div>"
            ],
            "text/plain": [
              "            purchase\n",
              "date                \n",
              "2019-01-04  0.208333\n",
              "2019-01-05  0.500000\n",
              "2019-01-06  0.166667\n",
              "2019-01-07  0.333333\n",
              "2019-01-08  0.458333\n",
              "...              ...\n",
              "2019-03-27       NaN\n",
              "2019-03-28       NaN\n",
              "2019-03-29       NaN\n",
              "2019-03-30       NaN\n",
              "2019-03-31       NaN\n",
              "\n",
              "[87 rows x 1 columns]"
            ]
          },
          "metadata": {
            "tags": []
          },
          "execution_count": 154
        }
      ]
    },
    {
      "cell_type": "markdown",
      "metadata": {
        "id": "OGX9DqS7_1f-",
        "colab_type": "text"
      },
      "source": [
        "### IV. Check for seasonality\n",
        "\n",
        "There's a weekly pattern."
      ]
    },
    {
      "cell_type": "code",
      "metadata": {
        "id": "6YP27EQG3lvO",
        "colab_type": "code",
        "colab": {
          "base_uri": "https://localhost:8080/",
          "height": 303
        },
        "outputId": "242487a2-3f82-485f-a311-29a38be01265"
      },
      "source": [
        "decomp = seasonal_decompose(purchases['purchase'].dropna())\n",
        "\n",
        "decomp.plot();"
      ],
      "execution_count": 155,
      "outputs": [
        {
          "output_type": "display_data",
          "data": {
            "image/png": "[encoded data removed]",
            "text/plain": [
              "<Figure size 432x288 with 4 Axes>"
            ]
          },
          "metadata": {
            "tags": [],
            "needs_background": "light"
          }
        }
      ]
    },
    {
      "cell_type": "markdown",
      "metadata": {
        "id": "5nzm4FY6ADNO",
        "colab_type": "text"
      },
      "source": [
        "### V. Plot ACF & PACF to see how much to lag."
      ]
    },
    {
      "cell_type": "code",
      "metadata": {
        "id": "uS5MYyyj6kKL",
        "colab_type": "code",
        "colab": {
          "base_uri": "https://localhost:8080/",
          "height": 281
        },
        "outputId": "fcccdb73-a33f-4a92-eeec-0efd55282432"
      },
      "source": [
        "plot_acf(purchases['purchase'].dropna(), lags = 40);"
      ],
      "execution_count": 156,
      "outputs": [
        {
          "output_type": "display_data",
          "data": {
            "image/png": "[encoded data removed]",
            "text/plain": [
              "<Figure size 432x288 with 1 Axes>"
            ]
          },
          "metadata": {
            "tags": [],
            "needs_background": "light"
          }
        }
      ]
    },
    {
      "cell_type": "code",
      "metadata": {
        "id": "4_CJARWl6Y3B",
        "colab_type": "code",
        "colab": {
          "base_uri": "https://localhost:8080/",
          "height": 369
        },
        "outputId": "a7acdda1-69f4-4676-92fe-b38918aabfaf"
      },
      "source": [
        "plot_pacf(purchases['purchase'].dropna(), lags = 60);"
      ],
      "execution_count": 157,
      "outputs": [
        {
          "output_type": "stream",
          "text": [
            "/usr/local/lib/python3.6/dist-packages/statsmodels/regression/linear_model.py:1358: RuntimeWarning: invalid value encountered in sqrt\n",
            "  return rho, np.sqrt(sigmasq)\n",
            "/usr/local/lib/python3.6/dist-packages/statsmodels/regression/linear_model.py:1350: RuntimeWarning: invalid value encountered in double_scalars\n",
            "  r[k] = (X[0:-k] * X[k:]).sum() / denom(k)\n"
          ],
          "name": "stderr"
        },
        {
          "output_type": "display_data",
          "data": {
            "image/png": "[encoded data removed]",
            "text/plain": [
              "<Figure size 432x288 with 1 Axes>"
            ]
          },
          "metadata": {
            "tags": [],
            "needs_background": "light"
          }
        }
      ]
    },
    {
      "cell_type": "markdown",
      "metadata": {
        "id": "S3UOsV0hALm2",
        "colab_type": "text"
      },
      "source": [
        "### VI. Shift 38 times.\n",
        "\n",
        "Create a column called `lag_38` that lags purchases by 38 days."
      ]
    },
    {
      "cell_type": "code",
      "metadata": {
        "id": "RlA13qxe6vR8",
        "colab_type": "code",
        "colab": {
          "base_uri": "https://localhost:8080/",
          "height": 235
        },
        "outputId": "3962f071-70e2-4228-8e34-50f3d816ae64"
      },
      "source": [
        "purchases['lag_38'] = purchases['purchase'].shift(38)\n",
        "\n",
        "purchases.head()"
      ],
      "execution_count": 158,
      "outputs": [
        {
          "output_type": "execute_result",
          "data": {
            "text/html": [
              "<div>\n",
              "<style scoped>\n",
              "    .dataframe tbody tr th:only-of-type {\n",
              "        vertical-align: middle;\n",
              "    }\n",
              "\n",
              "    .dataframe tbody tr th {\n",
              "        vertical-align: top;\n",
              "    }\n",
              "\n",
              "    .dataframe thead th {\n",
              "        text-align: right;\n",
              "    }\n",
              "</style>\n",
              "<table border=\"1\" class=\"dataframe\">\n",
              "  <thead>\n",
              "    <tr style=\"text-align: right;\">\n",
              "      <th></th>\n",
              "      <th>purchase</th>\n",
              "      <th>lag_38</th>\n",
              "    </tr>\n",
              "    <tr>\n",
              "      <th>date</th>\n",
              "      <th></th>\n",
              "      <th></th>\n",
              "    </tr>\n",
              "  </thead>\n",
              "  <tbody>\n",
              "    <tr>\n",
              "      <th>2019-01-04</th>\n",
              "      <td>0.208333</td>\n",
              "      <td>NaN</td>\n",
              "    </tr>\n",
              "    <tr>\n",
              "      <th>2019-01-05</th>\n",
              "      <td>0.500000</td>\n",
              "      <td>NaN</td>\n",
              "    </tr>\n",
              "    <tr>\n",
              "      <th>2019-01-06</th>\n",
              "      <td>0.166667</td>\n",
              "      <td>NaN</td>\n",
              "    </tr>\n",
              "    <tr>\n",
              "      <th>2019-01-07</th>\n",
              "      <td>0.333333</td>\n",
              "      <td>NaN</td>\n",
              "    </tr>\n",
              "    <tr>\n",
              "      <th>2019-01-08</th>\n",
              "      <td>0.458333</td>\n",
              "      <td>NaN</td>\n",
              "    </tr>\n",
              "  </tbody>\n",
              "</table>\n",
              "</div>"
            ],
            "text/plain": [
              "            purchase  lag_38\n",
              "date                        \n",
              "2019-01-04  0.208333     NaN\n",
              "2019-01-05  0.500000     NaN\n",
              "2019-01-06  0.166667     NaN\n",
              "2019-01-07  0.333333     NaN\n",
              "2019-01-08  0.458333     NaN"
            ]
          },
          "metadata": {
            "tags": []
          },
          "execution_count": 158
        }
      ]
    },
    {
      "cell_type": "code",
      "metadata": {
        "id": "q8oNaOqn9a70",
        "colab_type": "code",
        "colab": {
          "base_uri": "https://localhost:8080/",
          "height": 235
        },
        "outputId": "2dc58bd4-710f-49b9-8b50-f19ebc4fe507"
      },
      "source": [
        "purchases.tail()"
      ],
      "execution_count": 159,
      "outputs": [
        {
          "output_type": "execute_result",
          "data": {
            "text/html": [
              "<div>\n",
              "<style scoped>\n",
              "    .dataframe tbody tr th:only-of-type {\n",
              "        vertical-align: middle;\n",
              "    }\n",
              "\n",
              "    .dataframe tbody tr th {\n",
              "        vertical-align: top;\n",
              "    }\n",
              "\n",
              "    .dataframe thead th {\n",
              "        text-align: right;\n",
              "    }\n",
              "</style>\n",
              "<table border=\"1\" class=\"dataframe\">\n",
              "  <thead>\n",
              "    <tr style=\"text-align: right;\">\n",
              "      <th></th>\n",
              "      <th>purchase</th>\n",
              "      <th>lag_38</th>\n",
              "    </tr>\n",
              "    <tr>\n",
              "      <th>date</th>\n",
              "      <th></th>\n",
              "      <th></th>\n",
              "    </tr>\n",
              "  </thead>\n",
              "  <tbody>\n",
              "    <tr>\n",
              "      <th>2019-03-27</th>\n",
              "      <td>NaN</td>\n",
              "      <td>0.125</td>\n",
              "    </tr>\n",
              "    <tr>\n",
              "      <th>2019-03-28</th>\n",
              "      <td>NaN</td>\n",
              "      <td>0.125</td>\n",
              "    </tr>\n",
              "    <tr>\n",
              "      <th>2019-03-29</th>\n",
              "      <td>NaN</td>\n",
              "      <td>0.250</td>\n",
              "    </tr>\n",
              "    <tr>\n",
              "      <th>2019-03-30</th>\n",
              "      <td>NaN</td>\n",
              "      <td>0.500</td>\n",
              "    </tr>\n",
              "    <tr>\n",
              "      <th>2019-03-31</th>\n",
              "      <td>NaN</td>\n",
              "      <td>0.625</td>\n",
              "    </tr>\n",
              "  </tbody>\n",
              "</table>\n",
              "</div>"
            ],
            "text/plain": [
              "            purchase  lag_38\n",
              "date                        \n",
              "2019-03-27       NaN   0.125\n",
              "2019-03-28       NaN   0.125\n",
              "2019-03-29       NaN   0.250\n",
              "2019-03-30       NaN   0.500\n",
              "2019-03-31       NaN   0.625"
            ]
          },
          "metadata": {
            "tags": []
          },
          "execution_count": 159
        }
      ]
    },
    {
      "cell_type": "markdown",
      "metadata": {
        "id": "_JTgL5bVAWc3",
        "colab_type": "text"
      },
      "source": [
        "### VI. Pre-Modeling\n",
        "\n",
        "Train/test split."
      ]
    },
    {
      "cell_type": "code",
      "metadata": {
        "id": "Rz3Ng4eiTxCi",
        "colab_type": "code",
        "colab": {}
      },
      "source": [
        "# Separate established data (Jan - Feb) from forecasting data (Mar)\n",
        "modeling_data = purchases[:-31]\n",
        "\n",
        "X_train, X_test, y_train, y_test = train_test_split(modeling_data.drop(columns = 'purchase'),\n",
        "                                                    modeling_data['purchase'],\n",
        "                                                    test_size = 0.25,\n",
        "                                                    shuffle = False)"
      ],
      "execution_count": 160,
      "outputs": []
    },
    {
      "cell_type": "code",
      "metadata": {
        "id": "PBSiwY_W9uOp",
        "colab_type": "code",
        "colab": {
          "base_uri": "https://localhost:8080/",
          "height": 85
        },
        "outputId": "0c7d170c-f837-417f-d49b-a725f8f50d80"
      },
      "source": [
        "print(X_train.shape)\n",
        "print(X_test.shape)\n",
        "print(y_train.shape)\n",
        "print(y_test.shape)"
      ],
      "execution_count": 161,
      "outputs": [
        {
          "output_type": "stream",
          "text": [
            "(42, 1)\n",
            "(14, 1)\n",
            "(42,)\n",
            "(14,)\n"
          ],
          "name": "stdout"
        }
      ]
    },
    {
      "cell_type": "markdown",
      "metadata": {
        "id": "G-JTMoa2AkqL",
        "colab_type": "text"
      },
      "source": [
        "Add constant to model with statsmodels."
      ]
    },
    {
      "cell_type": "code",
      "metadata": {
        "id": "XNjho4mp-LwQ",
        "colab_type": "code",
        "colab": {}
      },
      "source": [
        "X_train = sm.add_constant(X_train)\n",
        "X_test = sm.add_constant(X_test)"
      ],
      "execution_count": 162,
      "outputs": []
    },
    {
      "cell_type": "markdown",
      "metadata": {
        "id": "4yamL-4DAzxc",
        "colab_type": "text"
      },
      "source": [
        "Drop missing values (from shifting data) because statsmodels won't work on missing values. Subset y_train to keep only indices from X_train."
      ]
    },
    {
      "cell_type": "code",
      "metadata": {
        "id": "xaM7ekat-Rkm",
        "colab_type": "code",
        "colab": {}
      },
      "source": [
        "X_train.dropna(inplace=True)\n",
        "y_train = y_train[X_train.index] "
      ],
      "execution_count": 163,
      "outputs": []
    },
    {
      "cell_type": "markdown",
      "metadata": {
        "id": "P8INHAw3BJq1",
        "colab_type": "text"
      },
      "source": [
        "### VII. Instantiate & fit model\n",
        "\n",
        "Interpreting Summary:\n",
        "\n",
        "- All else held constant, "
      ]
    },
    {
      "cell_type": "code",
      "metadata": {
        "id": "3G-JSWPu-XTU",
        "colab_type": "code",
        "colab": {}
      },
      "source": [
        "lm = sm.OLS(y_train, X_train)\n",
        "lm_results = lm.fit()"
      ],
      "execution_count": 173,
      "outputs": []
    },
    {
      "cell_type": "code",
      "metadata": {
        "id": "ovYdD6gd_Zj2",
        "colab_type": "code",
        "colab": {
          "base_uri": "https://localhost:8080/",
          "height": 34
        },
        "outputId": "7aa7147a-17be-4e39-93e7-b7d5d04b27c7"
      },
      "source": [
        "r2_score(y_test, lm_results.predict(X_test))"
      ],
      "execution_count": 166,
      "outputs": [
        {
          "output_type": "execute_result",
          "data": {
            "text/plain": [
              "-16.03612964416618"
            ]
          },
          "metadata": {
            "tags": []
          },
          "execution_count": 166
        }
      ]
    },
    {
      "cell_type": "code",
      "metadata": {
        "id": "5q4qGqPI_fg1",
        "colab_type": "code",
        "colab": {
          "base_uri": "https://localhost:8080/",
          "height": 34
        },
        "outputId": "a6be5031-eb5d-4015-80a1-8ccfc224e79c"
      },
      "source": [
        "mean_squared_error(y_test, lm_results.predict(X_test)) ** 0.5"
      ],
      "execution_count": 167,
      "outputs": [
        {
          "output_type": "execute_result",
          "data": {
            "text/plain": [
              "0.95760184686084"
            ]
          },
          "metadata": {
            "tags": []
          },
          "execution_count": 167
        }
      ]
    },
    {
      "cell_type": "markdown",
      "metadata": {
        "id": "5YNQZoUAoCQx",
        "colab_type": "text"
      },
      "source": [
        "### VIII. Plot model predictions"
      ]
    },
    {
      "cell_type": "code",
      "metadata": {
        "id": "yQpiU4UG_g6I",
        "colab_type": "code",
        "colab": {
          "base_uri": "https://localhost:8080/",
          "height": 507
        },
        "outputId": "b5d5c5dc-d6b2-4f62-de2b-c2587a68dfad"
      },
      "source": [
        "plt.figure(figsize=(15,8))\n",
        "\n",
        "# Plot training data.\n",
        "plt.plot(y_train.index, y_train.values, color = 'blue', label = 'Training Data')\n",
        "\n",
        "# Plot testing data.\n",
        "plt.plot(y_test.index, y_test.values, color = 'orange', label = 'Testing Data')\n",
        "\n",
        "# Plot predicted test values.\n",
        "plt.plot(lm_results.predict(X_test), color = 'green', label = 'Predicted Values')\n",
        "\n",
        "# Set label.\n",
        "plt.title(label = 'Forecasting Purchases Jan-Feb 2019', fontsize=20)\n",
        "\n",
        "# Resize tick marks.\n",
        "plt.xticks(fontsize=12)\n",
        "plt.yticks(fontsize=12)\n",
        "\n",
        "plt.legend(loc=\"lower left\")\n",
        "\n",
        "plt.savefig('/content/drive/My Drive/giant_spoon_analytics_test/model.png',dpi=235,bbox_inches='tight');"
      ],
      "execution_count": 174,
      "outputs": [
        {
          "output_type": "display_data",
          "data": {
            "image/png": "[encoded data removed]",
            "text/plain": [
              "<Figure size 1080x576 with 1 Axes>"
            ]
          },
          "metadata": {
            "tags": [],
            "needs_background": "light"
          }
        }
      ]
    },
    {
      "cell_type": "markdown",
      "metadata": {
        "id": "ZIR55r46o4H8",
        "colab_type": "text"
      },
      "source": [
        "### IX. Prep march data for forecasting"
      ]
    },
    {
      "cell_type": "code",
      "metadata": {
        "id": "oTkxXm2-D58F",
        "colab_type": "code",
        "colab": {
          "base_uri": "https://localhost:8080/",
          "height": 235
        },
        "outputId": "45ffb21f-4818-4010-be2b-e680fa7a0907"
      },
      "source": [
        "predict_march = purchases[56:]\n",
        "predict_march = predict_march.drop(columns='purchase')\n",
        "predict_march = sm.add_constant(predict_march)\n",
        "predict_march.head()"
      ],
      "execution_count": 175,
      "outputs": [
        {
          "output_type": "execute_result",
          "data": {
            "text/html": [
              "<div>\n",
              "<style scoped>\n",
              "    .dataframe tbody tr th:only-of-type {\n",
              "        vertical-align: middle;\n",
              "    }\n",
              "\n",
              "    .dataframe tbody tr th {\n",
              "        vertical-align: top;\n",
              "    }\n",
              "\n",
              "    .dataframe thead th {\n",
              "        text-align: right;\n",
              "    }\n",
              "</style>\n",
              "<table border=\"1\" class=\"dataframe\">\n",
              "  <thead>\n",
              "    <tr style=\"text-align: right;\">\n",
              "      <th></th>\n",
              "      <th>const</th>\n",
              "      <th>lag_38</th>\n",
              "    </tr>\n",
              "    <tr>\n",
              "      <th>date</th>\n",
              "      <th></th>\n",
              "      <th></th>\n",
              "    </tr>\n",
              "  </thead>\n",
              "  <tbody>\n",
              "    <tr>\n",
              "      <th>2019-03-01</th>\n",
              "      <td>1.0</td>\n",
              "      <td>1.500000</td>\n",
              "    </tr>\n",
              "    <tr>\n",
              "      <th>2019-03-02</th>\n",
              "      <td>1.0</td>\n",
              "      <td>2.200000</td>\n",
              "    </tr>\n",
              "    <tr>\n",
              "      <th>2019-03-03</th>\n",
              "      <td>1.0</td>\n",
              "      <td>2.800000</td>\n",
              "    </tr>\n",
              "    <tr>\n",
              "      <th>2019-03-04</th>\n",
              "      <td>1.0</td>\n",
              "      <td>3.764706</td>\n",
              "    </tr>\n",
              "    <tr>\n",
              "      <th>2019-03-05</th>\n",
              "      <td>1.0</td>\n",
              "      <td>2.058824</td>\n",
              "    </tr>\n",
              "  </tbody>\n",
              "</table>\n",
              "</div>"
            ],
            "text/plain": [
              "            const    lag_38\n",
              "date                       \n",
              "2019-03-01    1.0  1.500000\n",
              "2019-03-02    1.0  2.200000\n",
              "2019-03-03    1.0  2.800000\n",
              "2019-03-04    1.0  3.764706\n",
              "2019-03-05    1.0  2.058824"
            ]
          },
          "metadata": {
            "tags": []
          },
          "execution_count": 175
        }
      ]
    },
    {
      "cell_type": "markdown",
      "metadata": {
        "id": "vTD5zp8fpIQs",
        "colab_type": "text"
      },
      "source": [
        "### X. Plot March forecast"
      ]
    },
    {
      "cell_type": "code",
      "metadata": {
        "id": "z19uLRVMVCuJ",
        "colab_type": "code",
        "colab": {
          "base_uri": "https://localhost:8080/",
          "height": 511
        },
        "outputId": "3437e935-70a6-4083-a60a-b711e88275f0"
      },
      "source": [
        "plt.figure(figsize=(15,8))\n",
        "\n",
        "# Plot training data.\n",
        "plt.plot(modeling_data.index, modeling_data['purchase'], color = 'blue', label = 'Established Data')\n",
        "\n",
        "# Plot predicted test values.\n",
        "plt.plot(lm_results.predict(predict_march), color = 'green', label = 'Forecasted Data')\n",
        "\n",
        "# Set label.\n",
        "plt.title(label = 'Forecasting Purchases for March 2019', fontsize=24)\n",
        "\n",
        "# Resize tick marks.\n",
        "plt.xticks(fontsize=12)\n",
        "plt.yticks(fontsize=12)\n",
        "\n",
        "plt.legend(loc=\"upper right\")\n",
        "\n",
        "plt.savefig('/content/drive/My Drive/giant_spoon_analytics_test/forecast.png',dpi=235,bbox_inches='tight');"
      ],
      "execution_count": 172,
      "outputs": [
        {
          "output_type": "display_data",
          "data": {
            "image/png": "[encoded data removed]",
            "text/plain": [
              "<Figure size 1080x576 with 1 Axes>"
            ]
          },
          "metadata": {
            "tags": [],
            "needs_background": "light"
          }
        }
      ]
    },
    {
      "cell_type": "markdown",
      "metadata": {
        "id": "GNzRORJSphX0",
        "colab_type": "text"
      },
      "source": [
        "### XI. Save predictions"
      ]
    },
    {
      "cell_type": "code",
      "metadata": {
        "id": "W0k-rHBiUfS5",
        "colab_type": "code",
        "colab": {}
      },
      "source": [
        "pd.DataFrame(lm_results.predict(predict_march)).to_csv('/content/drive/My Drive/giant_spoon_analytics_test/march_predictions.csv')"
      ],
      "execution_count": 177,
      "outputs": []
    }
  ]
}